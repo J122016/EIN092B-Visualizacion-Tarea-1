{
 "cells": [
  {
   "cell_type": "code",
   "execution_count": null,
   "metadata": {
    "cell_id": "322f71dfd25040b29051f37f72ce5514",
    "deepnote_cell_type": "code",
    "deepnote_variable_name": "",
    "execution_context_id": "deca96bf-3bbb-422a-a259-15fc5e7e16c8",
    "execution_millis": 1536,
    "execution_start": 1757643245016,
    "source_hash": "cc1ebc97",
    "sql_integration_id": ""
   },
   "outputs": [
    {
     "data": {
      "application/vnd.deepnote.dataframe.v3+json": {
       "column_count": 42,
       "columns": [
        {
         "dtype": "object",
         "name": "AÑO",
         "stats": {
          "categories": [
           {
            "count": 5,
            "name": "TIT_2024"
           }
          ],
          "histogram": null,
          "max": null,
          "min": null,
          "nan_count": 0,
          "unique_count": 1
         }
        },
        {
         "dtype": "int64",
         "name": "TOTAL TITULACIONES",
         "stats": {
          "categories": null,
          "histogram": [
           {
            "bin_end": 10,
            "bin_start": 9,
            "count": 1
           },
           {
            "bin_end": 11,
            "bin_start": 10,
            "count": 1
           },
           {
            "bin_end": 12,
            "bin_start": 11,
            "count": 0
           },
           {
            "bin_end": 13,
            "bin_start": 12,
            "count": 0
           },
           {
            "bin_end": 14,
            "bin_start": 13,
            "count": 1
           },
           {
            "bin_end": 15,
            "bin_start": 14,
            "count": 0
           },
           {
            "bin_end": 16,
            "bin_start": 15,
            "count": 1
           },
           {
            "bin_end": 17,
            "bin_start": 16,
            "count": 0
           },
           {
            "bin_end": 18,
            "bin_start": 17,
            "count": 0
           },
           {
            "bin_end": 19,
            "bin_start": 18,
            "count": 1
           }
          ],
          "max": "19",
          "min": "9",
          "nan_count": 0,
          "unique_count": 5
         }
        },
        {
         "dtype": "float64",
         "name": "TITULACIONES MUJERES POR PROGRAMA",
         "stats": {
          "categories": null,
          "histogram": [
           {
            "bin_end": 5.1,
            "bin_start": 4,
            "count": 2
           },
           {
            "bin_end": 6.2,
            "bin_start": 5.1,
            "count": 0
           },
           {
            "bin_end": 7.300000000000001,
            "bin_start": 6.2,
            "count": 0
           },
           {
            "bin_end": 8.4,
            "bin_start": 7.300000000000001,
            "count": 0
           },
           {
            "bin_end": 9.5,
            "bin_start": 8.4,
            "count": 0
           },
           {
            "bin_end": 10.600000000000001,
            "bin_start": 9.5,
            "count": 1
           },
           {
            "bin_end": 11.700000000000001,
            "bin_start": 10.600000000000001,
            "count": 0
           },
           {
            "bin_end": 12.8,
            "bin_start": 11.700000000000001,
            "count": 0
           },
           {
            "bin_end": 13.9,
            "bin_start": 12.8,
            "count": 1
           },
           {
            "bin_end": 15,
            "bin_start": 13.9,
            "count": 1
           }
          ],
          "max": "15.0",
          "min": "4.0",
          "nan_count": 0,
          "unique_count": 5
         }
        },
        {
         "dtype": "float64",
         "name": "TITULACIONES HOMBRES POR PROGRAMA",
         "stats": {
          "categories": null,
          "histogram": [
           {
            "bin_end": 2.4,
            "bin_start": 2,
            "count": 1
           },
           {
            "bin_end": 2.8,
            "bin_start": 2.4,
            "count": 0
           },
           {
            "bin_end": 3.2,
            "bin_start": 2.8,
            "count": 1
           },
           {
            "bin_end": 3.6,
            "bin_start": 3.2,
            "count": 0
           },
           {
            "bin_end": 4,
            "bin_start": 3.6,
            "count": 0
           },
           {
            "bin_end": 4.4,
            "bin_start": 4,
            "count": 2
           },
           {
            "bin_end": 4.800000000000001,
            "bin_start": 4.4,
            "count": 0
           },
           {
            "bin_end": 5.2,
            "bin_start": 4.800000000000001,
            "count": 0
           },
           {
            "bin_end": 5.6,
            "bin_start": 5.2,
            "count": 0
           },
           {
            "bin_end": 6,
            "bin_start": 5.6,
            "count": 1
           }
          ],
          "max": "6.0",
          "min": "2.0",
          "nan_count": 0,
          "unique_count": 4
         }
        },
        {
         "dtype": "float64",
         "name": "TITULACIONES NB E INDEFINIDO POR PROGRAMA",
         "stats": {
          "categories": null,
          "histogram": [
           {
            "bin_end": 0.1,
            "bin_start": 0,
            "count": 0
           },
           {
            "bin_end": 0.2,
            "bin_start": 0.1,
            "count": 0
           },
           {
            "bin_end": 0.30000000000000004,
            "bin_start": 0.2,
            "count": 0
           },
           {
            "bin_end": 0.4,
            "bin_start": 0.30000000000000004,
            "count": 0
           },
           {
            "bin_end": 0.5,
            "bin_start": 0.4,
            "count": 0
           },
           {
            "bin_end": 0.6000000000000001,
            "bin_start": 0.5,
            "count": 0
           },
           {
            "bin_end": 0.7000000000000001,
            "bin_start": 0.6000000000000001,
            "count": 0
           },
           {
            "bin_end": 0.8,
            "bin_start": 0.7000000000000001,
            "count": 0
           },
           {
            "bin_end": 0.9,
            "bin_start": 0.8,
            "count": 0
           },
           {
            "bin_end": 1,
            "bin_start": 0.9,
            "count": 0
           }
          ],
          "max": null,
          "min": null,
          "nan_count": 5,
          "unique_count": 0
         }
        },
        {
         "dtype": "object",
         "name": "CLASIFICACIÓN INSTITUCIÓN NIVEL 1",
         "stats": {
          "categories": [
           {
            "count": 5,
            "name": "Universidades"
           }
          ],
          "histogram": null,
          "max": null,
          "min": null,
          "nan_count": 0,
          "unique_count": 1
         }
        },
        {
         "dtype": "object",
         "name": "CLASIFICACIÓN INSTITUCIÓN NIVEL 2",
         "stats": {
          "categories": [
           {
            "count": 5,
            "name": "Universidades Privadas"
           }
          ],
          "histogram": null,
          "max": null,
          "min": null,
          "nan_count": 0,
          "unique_count": 1
         }
        },
        {
         "dtype": "object",
         "name": "CLASIFICACIÓN INSTITUCIÓN NIVEL 3",
         "stats": {
          "categories": [
           {
            "count": 5,
            "name": "Universidades Privadas"
           }
          ],
          "histogram": null,
          "max": null,
          "min": null,
          "nan_count": 0,
          "unique_count": 1
         }
        },
        {
         "dtype": "int64",
         "name": "CÓDIGO INSTITUCIÓN",
         "stats": {
          "categories": null,
          "histogram": [
           {
            "bin_end": 0.6,
            "bin_start": 0.5,
            "count": 0
           },
           {
            "bin_end": 0.7,
            "bin_start": 0.6,
            "count": 0
           },
           {
            "bin_end": 0.8,
            "bin_start": 0.7,
            "count": 0
           },
           {
            "bin_end": 0.9,
            "bin_start": 0.8,
            "count": 0
           },
           {
            "bin_end": 1,
            "bin_start": 0.9,
            "count": 0
           },
           {
            "bin_end": 1.1,
            "bin_start": 1,
            "count": 5
           },
           {
            "bin_end": 1.2000000000000002,
            "bin_start": 1.1,
            "count": 0
           },
           {
            "bin_end": 1.3,
            "bin_start": 1.2000000000000002,
            "count": 0
           },
           {
            "bin_end": 1.4,
            "bin_start": 1.3,
            "count": 0
           },
           {
            "bin_end": 1.5,
            "bin_start": 1.4,
            "count": 0
           }
          ],
          "max": "1",
          "min": "1",
          "nan_count": 0,
          "unique_count": 1
         }
        },
        {
         "dtype": "object",
         "name": "NOMBRE INSTITUCIÓN",
         "stats": {
          "categories": [
           {
            "count": 5,
            "name": "UNIVERSIDAD GABRIELA MISTRAL"
           }
          ],
          "histogram": null,
          "max": null,
          "min": null,
          "nan_count": 0,
          "unique_count": 1
         }
        },
        {
         "dtype": "object",
         "name": "COMUNA",
         "stats": {
          "categories": [
           {
            "count": 5,
            "name": "PROVIDENCIA"
           }
          ],
          "histogram": null,
          "max": null,
          "min": null,
          "nan_count": 0,
          "unique_count": 1
         }
        },
        {
         "dtype": "object",
         "name": "PROVINCIA",
         "stats": {
          "categories": [
           {
            "count": 5,
            "name": "SANTIAGO"
           }
          ],
          "histogram": null,
          "max": null,
          "min": null,
          "nan_count": 0,
          "unique_count": 1
         }
        },
        {
         "dtype": "object",
         "name": "REGIÓN",
         "stats": {
          "categories": [
           {
            "count": 5,
            "name": "Metropolitana"
           }
          ],
          "histogram": null,
          "max": null,
          "min": null,
          "nan_count": 0,
          "unique_count": 1
         }
        },
        {
         "dtype": "object",
         "name": "NOMBRE SEDE",
         "stats": {
          "categories": [
           {
            "count": 5,
            "name": "CASA CENTRAL"
           }
          ],
          "histogram": null,
          "max": null,
          "min": null,
          "nan_count": 0,
          "unique_count": 1
         }
        },
        {
         "dtype": "object",
         "name": "NOMBRE CARRERA",
         "stats": {
          "categories": [
           {
            "count": 2,
            "name": "PSICOLOGIA"
           },
           {
            "count": 1,
            "name": "LICENCIATURA EN HISTORIA"
           },
           {
            "count": 2,
            "name": "2 others"
           }
          ],
          "histogram": null,
          "max": null,
          "min": null,
          "nan_count": 0,
          "unique_count": 4
         }
        },
        {
         "dtype": "object",
         "name": "ÁREA DEL CONOCIMIENTO",
         "stats": {
          "categories": [
           {
            "count": 3,
            "name": "Ciencias Sociales"
           },
           {
            "count": 1,
            "name": "Salud"
           },
           {
            "count": 1,
            "name": "Arte y Arquitectura"
           }
          ],
          "histogram": null,
          "max": null,
          "min": null,
          "nan_count": 0,
          "unique_count": 3
         }
        },
        {
         "dtype": "object",
         "name": "CINE-F_97 ÁREA",
         "stats": {
          "categories": [
           {
            "count": 2,
            "name": "Humanidades y Artes"
           },
           {
            "count": 2,
            "name": "Ciencias Sociales, Enseñanza Comercial y Derecho"
           },
           {
            "count": 1,
            "name": "Salud y Servicios Sociales"
           }
          ],
          "histogram": null,
          "max": null,
          "min": null,
          "nan_count": 0,
          "unique_count": 3
         }
        },
        {
         "dtype": "object",
         "name": "CINE-F_97 SUBAREA",
         "stats": {
          "categories": [
           {
            "count": 2,
            "name": "Ciencias Sociales y del Comportamiento"
           },
           {
            "count": 1,
            "name": "Humanidades"
           },
           {
            "count": 2,
            "name": "2 others"
           }
          ],
          "histogram": null,
          "max": null,
          "min": null,
          "nan_count": 0,
          "unique_count": 4
         }
        },
        {
         "dtype": "object",
         "name": "ÁREA CARRERA GENÉRICA",
         "stats": {
          "categories": [
           {
            "count": 2,
            "name": "Psicología"
           },
           {
            "count": 1,
            "name": "Historia"
           },
           {
            "count": 2,
            "name": "2 others"
           }
          ],
          "histogram": null,
          "max": null,
          "min": null,
          "nan_count": 0,
          "unique_count": 4
         }
        },
        {
         "dtype": "object",
         "name": "CINE-F_13 ÁREA",
         "stats": {
          "categories": [
           {
            "count": 2,
            "name": "Artes y Humanidades"
           },
           {
            "count": 2,
            "name": "Ciencias Sociales, Periodismo e Información"
           },
           {
            "count": 1,
            "name": "Salud y Bienestar"
           }
          ],
          "histogram": null,
          "max": null,
          "min": null,
          "nan_count": 0,
          "unique_count": 3
         }
        },
        {
         "dtype": "object",
         "name": "CINE-F_13 SUBAREA",
         "stats": {
          "categories": [
           {
            "count": 2,
            "name": "Ciencias Sociales y del Comportamiento"
           },
           {
            "count": 1,
            "name": "Humanidades"
           },
           {
            "count": 2,
            "name": "2 others"
           }
          ],
          "histogram": null,
          "max": null,
          "min": null,
          "nan_count": 0,
          "unique_count": 4
         }
        },
        {
         "dtype": "object",
         "name": "NIVEL GLOBAL",
         "stats": {
          "categories": [
           {
            "count": 5,
            "name": "Pregrado"
           }
          ],
          "histogram": null,
          "max": null,
          "min": null,
          "nan_count": 0,
          "unique_count": 1
         }
        },
        {
         "dtype": "object",
         "name": "CARRERA CLASIFICACIÓN NIVEL 1",
         "stats": {
          "categories": [
           {
            "count": 4,
            "name": "Profesional Con Licenciatura"
           },
           {
            "count": 1,
            "name": "Licenciatura No Conducente a Título"
           }
          ],
          "histogram": null,
          "max": null,
          "min": null,
          "nan_count": 0,
          "unique_count": 2
         }
        },
        {
         "dtype": "object",
         "name": "CARRERA CLASIFICACIÓN NIVEL 2",
         "stats": {
          "categories": [
           {
            "count": 5,
            "name": "Carreras Profesionales"
           }
          ],
          "histogram": null,
          "max": null,
          "min": null,
          "nan_count": 0,
          "unique_count": 1
         }
        },
        {
         "dtype": "object",
         "name": "MODALIDAD",
         "stats": {
          "categories": [
           {
            "count": 4,
            "name": "Presencial"
           },
           {
            "count": 1,
            "name": "No Presencial"
           }
          ],
          "histogram": null,
          "max": null,
          "min": null,
          "nan_count": 0,
          "unique_count": 2
         }
        },
        {
         "dtype": "object",
         "name": "JORNADA",
         "stats": {
          "categories": [
           {
            "count": 3,
            "name": "Diurna"
           },
           {
            "count": 1,
            "name": "A Distancia"
           },
           {
            "count": 1,
            "name": "Vespertina"
           }
          ],
          "histogram": null,
          "max": null,
          "min": null,
          "nan_count": 0,
          "unique_count": 3
         }
        },
        {
         "dtype": "object",
         "name": "TIPO DE PLAN DE LA CARRERA",
         "stats": {
          "categories": [
           {
            "count": 4,
            "name": "Plan Regular"
           },
           {
            "count": 1,
            "name": "Plan Regular de Continuidad"
           }
          ],
          "histogram": null,
          "max": null,
          "min": null,
          "nan_count": 0,
          "unique_count": 2
         }
        },
        {
         "dtype": "float64",
         "name": "DURACIÓN ESTUDIO CARRERA",
         "stats": {
          "categories": null,
          "histogram": [
           {
            "bin_end": 8.2,
            "bin_start": 8,
            "count": 2
           },
           {
            "bin_end": 8.4,
            "bin_start": 8.2,
            "count": 0
           },
           {
            "bin_end": 8.6,
            "bin_start": 8.4,
            "count": 0
           },
           {
            "bin_end": 8.8,
            "bin_start": 8.6,
            "count": 0
           },
           {
            "bin_end": 9,
            "bin_start": 8.8,
            "count": 0
           },
           {
            "bin_end": 9.2,
            "bin_start": 9,
            "count": 1
           },
           {
            "bin_end": 9.4,
            "bin_start": 9.2,
            "count": 0
           },
           {
            "bin_end": 9.6,
            "bin_start": 9.4,
            "count": 0
           },
           {
            "bin_end": 9.8,
            "bin_start": 9.6,
            "count": 0
           },
           {
            "bin_end": 10,
            "bin_start": 9.8,
            "count": 2
           }
          ],
          "max": "10.0",
          "min": "8.0",
          "nan_count": 0,
          "unique_count": 3
         }
        },
        {
         "dtype": "float64",
         "name": "DURACIÓN TOTAL DE LA CARRERA",
         "stats": {
          "categories": null,
          "histogram": [
           {
            "bin_end": 8.2,
            "bin_start": 8,
            "count": 2
           },
           {
            "bin_end": 8.4,
            "bin_start": 8.2,
            "count": 0
           },
           {
            "bin_end": 8.6,
            "bin_start": 8.4,
            "count": 0
           },
           {
            "bin_end": 8.8,
            "bin_start": 8.6,
            "count": 0
           },
           {
            "bin_end": 9,
            "bin_start": 8.8,
            "count": 0
           },
           {
            "bin_end": 9.2,
            "bin_start": 9,
            "count": 1
           },
           {
            "bin_end": 9.4,
            "bin_start": 9.2,
            "count": 0
           },
           {
            "bin_end": 9.6,
            "bin_start": 9.4,
            "count": 0
           },
           {
            "bin_end": 9.8,
            "bin_start": 9.6,
            "count": 0
           },
           {
            "bin_end": 10,
            "bin_start": 9.8,
            "count": 2
           }
          ],
          "max": "10.0",
          "min": "8.0",
          "nan_count": 0,
          "unique_count": 3
         }
        },
        {
         "dtype": "object",
         "name": "CÓDIGO PROGRAMA",
         "stats": {
          "categories": [
           {
            "count": 1,
            "name": "I1S1C10J4V1"
           },
           {
            "count": 1,
            "name": "I1S1C12J1V1"
           },
           {
            "count": 3,
            "name": "3 others"
           }
          ],
          "histogram": null,
          "max": null,
          "min": null,
          "nan_count": 0,
          "unique_count": 5
         }
        },
        {
         "dtype": "int64",
         "name": "TOTAL RANGO EDAD",
         "stats": {
          "categories": null,
          "histogram": [
           {
            "bin_end": 10,
            "bin_start": 9,
            "count": 1
           },
           {
            "bin_end": 11,
            "bin_start": 10,
            "count": 1
           },
           {
            "bin_end": 12,
            "bin_start": 11,
            "count": 0
           },
           {
            "bin_end": 13,
            "bin_start": 12,
            "count": 0
           },
           {
            "bin_end": 14,
            "bin_start": 13,
            "count": 1
           },
           {
            "bin_end": 15,
            "bin_start": 14,
            "count": 0
           },
           {
            "bin_end": 16,
            "bin_start": 15,
            "count": 1
           },
           {
            "bin_end": 17,
            "bin_start": 16,
            "count": 0
           },
           {
            "bin_end": 18,
            "bin_start": 17,
            "count": 0
           },
           {
            "bin_end": 19,
            "bin_start": 18,
            "count": 1
           }
          ],
          "max": "19",
          "min": "9",
          "nan_count": 0,
          "unique_count": 5
         }
        },
        {
         "dtype": "float64",
         "name": "RANGO DE EDAD 15 A 19 AÑOS",
         "stats": {
          "categories": null,
          "histogram": [
           {
            "bin_end": 0.1,
            "bin_start": 0,
            "count": 0
           },
           {
            "bin_end": 0.2,
            "bin_start": 0.1,
            "count": 0
           },
           {
            "bin_end": 0.30000000000000004,
            "bin_start": 0.2,
            "count": 0
           },
           {
            "bin_end": 0.4,
            "bin_start": 0.30000000000000004,
            "count": 0
           },
           {
            "bin_end": 0.5,
            "bin_start": 0.4,
            "count": 0
           },
           {
            "bin_end": 0.6000000000000001,
            "bin_start": 0.5,
            "count": 0
           },
           {
            "bin_end": 0.7000000000000001,
            "bin_start": 0.6000000000000001,
            "count": 0
           },
           {
            "bin_end": 0.8,
            "bin_start": 0.7000000000000001,
            "count": 0
           },
           {
            "bin_end": 0.9,
            "bin_start": 0.8,
            "count": 0
           },
           {
            "bin_end": 1,
            "bin_start": 0.9,
            "count": 0
           }
          ],
          "max": null,
          "min": null,
          "nan_count": 5,
          "unique_count": 0
         }
        },
        {
         "dtype": "float64",
         "name": "RANGO DE EDAD 20 A 24 AÑOS",
         "stats": {
          "categories": null,
          "histogram": [
           {
            "bin_end": 1.6,
            "bin_start": 1,
            "count": 3
           },
           {
            "bin_end": 2.2,
            "bin_start": 1.6,
            "count": 0
           },
           {
            "bin_end": 2.8,
            "bin_start": 2.2,
            "count": 0
           },
           {
            "bin_end": 3.4,
            "bin_start": 2.8,
            "count": 0
           },
           {
            "bin_end": 4,
            "bin_start": 3.4,
            "count": 0
           },
           {
            "bin_end": 4.6,
            "bin_start": 4,
            "count": 0
           },
           {
            "bin_end": 5.2,
            "bin_start": 4.6,
            "count": 0
           },
           {
            "bin_end": 5.8,
            "bin_start": 5.2,
            "count": 0
           },
           {
            "bin_end": 6.3999999999999995,
            "bin_start": 5.8,
            "count": 0
           },
           {
            "bin_end": 7,
            "bin_start": 6.3999999999999995,
            "count": 1
           }
          ],
          "max": "7.0",
          "min": "1.0",
          "nan_count": 1,
          "unique_count": 2
         }
        },
        {
         "dtype": "float64",
         "name": "RANGO DE EDAD 25 A 29 AÑOS",
         "stats": {
          "categories": null,
          "histogram": [
           {
            "bin_end": 2.7,
            "bin_start": 2,
            "count": 1
           },
           {
            "bin_end": 3.4,
            "bin_start": 2.7,
            "count": 0
           },
           {
            "bin_end": 4.1,
            "bin_start": 3.4,
            "count": 0
           },
           {
            "bin_end": 4.8,
            "bin_start": 4.1,
            "count": 0
           },
           {
            "bin_end": 5.5,
            "bin_start": 4.8,
            "count": 0
           },
           {
            "bin_end": 6.199999999999999,
            "bin_start": 5.5,
            "count": 0
           },
           {
            "bin_end": 6.8999999999999995,
            "bin_start": 6.199999999999999,
            "count": 0
           },
           {
            "bin_end": 7.6,
            "bin_start": 6.8999999999999995,
            "count": 1
           },
           {
            "bin_end": 8.3,
            "bin_start": 7.6,
            "count": 0
           },
           {
            "bin_end": 9,
            "bin_start": 8.3,
            "count": 1
           }
          ],
          "max": "9.0",
          "min": "2.0",
          "nan_count": 2,
          "unique_count": 3
         }
        },
        {
         "dtype": "float64",
         "name": "RANGO DE EDAD 30 A 34 AÑOS",
         "stats": {
          "categories": null,
          "histogram": [
           {
            "bin_end": 1.6,
            "bin_start": 1,
            "count": 1
           },
           {
            "bin_end": 2.2,
            "bin_start": 1.6,
            "count": 1
           },
           {
            "bin_end": 2.8,
            "bin_start": 2.2,
            "count": 0
           },
           {
            "bin_end": 3.4,
            "bin_start": 2.8,
            "count": 1
           },
           {
            "bin_end": 4,
            "bin_start": 3.4,
            "count": 0
           },
           {
            "bin_end": 4.6,
            "bin_start": 4,
            "count": 0
           },
           {
            "bin_end": 5.2,
            "bin_start": 4.6,
            "count": 0
           },
           {
            "bin_end": 5.8,
            "bin_start": 5.2,
            "count": 0
           },
           {
            "bin_end": 6.3999999999999995,
            "bin_start": 5.8,
            "count": 0
           },
           {
            "bin_end": 7,
            "bin_start": 6.3999999999999995,
            "count": 1
           }
          ],
          "max": "7.0",
          "min": "1.0",
          "nan_count": 1,
          "unique_count": 4
         }
        },
        {
         "dtype": "float64",
         "name": "RANGO DE EDAD 35 A 39 AÑOS",
         "stats": {
          "categories": null,
          "histogram": [
           {
            "bin_end": 1.3,
            "bin_start": 1,
            "count": 2
           },
           {
            "bin_end": 1.6,
            "bin_start": 1.3,
            "count": 0
           },
           {
            "bin_end": 1.9,
            "bin_start": 1.6,
            "count": 0
           },
           {
            "bin_end": 2.2,
            "bin_start": 1.9,
            "count": 1
           },
           {
            "bin_end": 2.5,
            "bin_start": 2.2,
            "count": 0
           },
           {
            "bin_end": 2.8,
            "bin_start": 2.5,
            "count": 0
           },
           {
            "bin_end": 3.1,
            "bin_start": 2.8,
            "count": 0
           },
           {
            "bin_end": 3.4,
            "bin_start": 3.1,
            "count": 0
           },
           {
            "bin_end": 3.6999999999999997,
            "bin_start": 3.4,
            "count": 0
           },
           {
            "bin_end": 4,
            "bin_start": 3.6999999999999997,
            "count": 1
           }
          ],
          "max": "4.0",
          "min": "1.0",
          "nan_count": 1,
          "unique_count": 3
         }
        },
        {
         "dtype": "float64",
         "name": "RANGO DE EDAD 40 Y MÁS AÑOS",
         "stats": {
          "categories": null,
          "histogram": [
           {
            "bin_end": 2.1,
            "bin_start": 1,
            "count": 1
           },
           {
            "bin_end": 3.2,
            "bin_start": 2.1,
            "count": 0
           },
           {
            "bin_end": 4.300000000000001,
            "bin_start": 3.2,
            "count": 1
           },
           {
            "bin_end": 5.4,
            "bin_start": 4.300000000000001,
            "count": 0
           },
           {
            "bin_end": 6.5,
            "bin_start": 5.4,
            "count": 0
           },
           {
            "bin_end": 7.6000000000000005,
            "bin_start": 6.5,
            "count": 0
           },
           {
            "bin_end": 8.700000000000001,
            "bin_start": 7.6000000000000005,
            "count": 0
           },
           {
            "bin_end": 9.8,
            "bin_start": 8.700000000000001,
            "count": 0
           },
           {
            "bin_end": 10.9,
            "bin_start": 9.8,
            "count": 0
           },
           {
            "bin_end": 12,
            "bin_start": 10.9,
            "count": 1
           }
          ],
          "max": "12.0",
          "min": "1.0",
          "nan_count": 2,
          "unique_count": 3
         }
        },
        {
         "dtype": "float64",
         "name": "RANGO DE EDAD SIN INFORMACIÓN",
         "stats": {
          "categories": null,
          "histogram": [
           {
            "bin_end": 0.1,
            "bin_start": 0,
            "count": 0
           },
           {
            "bin_end": 0.2,
            "bin_start": 0.1,
            "count": 0
           },
           {
            "bin_end": 0.30000000000000004,
            "bin_start": 0.2,
            "count": 0
           },
           {
            "bin_end": 0.4,
            "bin_start": 0.30000000000000004,
            "count": 0
           },
           {
            "bin_end": 0.5,
            "bin_start": 0.4,
            "count": 0
           },
           {
            "bin_end": 0.6000000000000001,
            "bin_start": 0.5,
            "count": 0
           },
           {
            "bin_end": 0.7000000000000001,
            "bin_start": 0.6000000000000001,
            "count": 0
           },
           {
            "bin_end": 0.8,
            "bin_start": 0.7000000000000001,
            "count": 0
           },
           {
            "bin_end": 0.9,
            "bin_start": 0.8,
            "count": 0
           },
           {
            "bin_end": 1,
            "bin_start": 0.9,
            "count": 0
           }
          ],
          "max": null,
          "min": null,
          "nan_count": 5,
          "unique_count": 0
         }
        },
        {
         "dtype": "object",
         "name": "PROMEDIO EDAD PROGRAMA ",
         "stats": {
          "categories": [
           {
            "count": 1,
            "name": "38,7"
           },
           {
            "count": 1,
            "name": "29"
           },
           {
            "count": 3,
            "name": "3 others"
           }
          ],
          "histogram": null,
          "max": null,
          "min": null,
          "nan_count": 0,
          "unique_count": 5
         }
        },
        {
         "dtype": "object",
         "name": "PROMEDIO EDAD MUJER ",
         "stats": {
          "categories": [
           {
            "count": 1,
            "name": "38,5"
           },
           {
            "count": 1,
            "name": "28,9"
           },
           {
            "count": 3,
            "name": "3 others"
           }
          ],
          "histogram": null,
          "max": null,
          "min": null,
          "nan_count": 0,
          "unique_count": 5
         }
        },
        {
         "dtype": "object",
         "name": "PROMEDIO EDAD HOMBRE ",
         "stats": {
          "categories": [
           {
            "count": 1,
            "name": "38,83333333"
           },
           {
            "count": 1,
            "name": "29,33333333"
           },
           {
            "count": 3,
            "name": "3 others"
           }
          ],
          "histogram": null,
          "max": null,
          "min": null,
          "nan_count": 0,
          "unique_count": 5
         }
        },
        {
         "dtype": "float64",
         "name": "PROMEDIO EDAD NB ",
         "stats": {
          "categories": null,
          "histogram": [
           {
            "bin_end": 0.1,
            "bin_start": 0,
            "count": 0
           },
           {
            "bin_end": 0.2,
            "bin_start": 0.1,
            "count": 0
           },
           {
            "bin_end": 0.30000000000000004,
            "bin_start": 0.2,
            "count": 0
           },
           {
            "bin_end": 0.4,
            "bin_start": 0.30000000000000004,
            "count": 0
           },
           {
            "bin_end": 0.5,
            "bin_start": 0.4,
            "count": 0
           },
           {
            "bin_end": 0.6000000000000001,
            "bin_start": 0.5,
            "count": 0
           },
           {
            "bin_end": 0.7000000000000001,
            "bin_start": 0.6000000000000001,
            "count": 0
           },
           {
            "bin_end": 0.8,
            "bin_start": 0.7000000000000001,
            "count": 0
           },
           {
            "bin_end": 0.9,
            "bin_start": 0.8,
            "count": 0
           },
           {
            "bin_end": 1,
            "bin_start": 0.9,
            "count": 0
           }
          ],
          "max": null,
          "min": null,
          "nan_count": 5,
          "unique_count": 0
         }
        },
        {
         "dtype": "int64",
         "name": "_deepnote_index_column"
        }
       ],
       "preview_row_count": 5,
       "row_count": 5,
       "rows": [
        {
         "AÑO": "TIT_2024",
         "CARRERA CLASIFICACIÓN NIVEL 1": "Licenciatura No Conducente a Título",
         "CARRERA CLASIFICACIÓN NIVEL 2": "Carreras Profesionales",
         "CINE-F_13 SUBAREA": "Humanidades",
         "CINE-F_13 ÁREA": "Artes y Humanidades",
         "CINE-F_97 SUBAREA": "Humanidades",
         "CINE-F_97 ÁREA": "Humanidades y Artes",
         "CLASIFICACIÓN INSTITUCIÓN NIVEL 1": "Universidades",
         "CLASIFICACIÓN INSTITUCIÓN NIVEL 2": "Universidades Privadas",
         "CLASIFICACIÓN INSTITUCIÓN NIVEL 3": "Universidades Privadas",
         "COMUNA": "PROVIDENCIA",
         "CÓDIGO INSTITUCIÓN": 1,
         "CÓDIGO PROGRAMA": "I1S1C10J4V1",
         "DURACIÓN ESTUDIO CARRERA": 8,
         "DURACIÓN TOTAL DE LA CARRERA": 8,
         "JORNADA": "A Distancia",
         "MODALIDAD": "No Presencial",
         "NIVEL GLOBAL": "Pregrado",
         "NOMBRE CARRERA": "LICENCIATURA EN HISTORIA",
         "NOMBRE INSTITUCIÓN": "UNIVERSIDAD GABRIELA MISTRAL",
         "NOMBRE SEDE": "CASA CENTRAL",
         "PROMEDIO EDAD HOMBRE ": "38,83333333",
         "PROMEDIO EDAD MUJER ": "38,5",
         "PROMEDIO EDAD NB ": "nan",
         "PROMEDIO EDAD PROGRAMA ": "38,7",
         "PROVINCIA": "SANTIAGO",
         "RANGO DE EDAD 15 A 19 AÑOS": "nan",
         "RANGO DE EDAD 20 A 24 AÑOS": 1,
         "RANGO DE EDAD 25 A 29 AÑOS": "nan",
         "RANGO DE EDAD 30 A 34 AÑOS": 1,
         "RANGO DE EDAD 35 A 39 AÑOS": 4,
         "RANGO DE EDAD 40 Y MÁS AÑOS": 4,
         "RANGO DE EDAD SIN INFORMACIÓN": "nan",
         "REGIÓN": "Metropolitana",
         "TIPO DE PLAN DE LA CARRERA": "Plan Regular",
         "TITULACIONES HOMBRES POR PROGRAMA": 6,
         "TITULACIONES MUJERES POR PROGRAMA": 4,
         "TITULACIONES NB E INDEFINIDO POR PROGRAMA": "nan",
         "TOTAL RANGO EDAD": 10,
         "TOTAL TITULACIONES": 10,
         "_deepnote_index_column": 0,
         "ÁREA CARRERA GENÉRICA": "Historia",
         "ÁREA DEL CONOCIMIENTO": "Ciencias Sociales"
        },
        {
         "AÑO": "TIT_2024",
         "CARRERA CLASIFICACIÓN NIVEL 1": "Profesional Con Licenciatura",
         "CARRERA CLASIFICACIÓN NIVEL 2": "Carreras Profesionales",
         "CINE-F_13 SUBAREA": "Ciencias Sociales y del Comportamiento",
         "CINE-F_13 ÁREA": "Ciencias Sociales, Periodismo e Información",
         "CINE-F_97 SUBAREA": "Ciencias Sociales y del Comportamiento",
         "CINE-F_97 ÁREA": "Ciencias Sociales, Enseñanza Comercial y Derecho",
         "CLASIFICACIÓN INSTITUCIÓN NIVEL 1": "Universidades",
         "CLASIFICACIÓN INSTITUCIÓN NIVEL 2": "Universidades Privadas",
         "CLASIFICACIÓN INSTITUCIÓN NIVEL 3": "Universidades Privadas",
         "COMUNA": "PROVIDENCIA",
         "CÓDIGO INSTITUCIÓN": 1,
         "CÓDIGO PROGRAMA": "I1S1C12J1V1",
         "DURACIÓN ESTUDIO CARRERA": 10,
         "DURACIÓN TOTAL DE LA CARRERA": 10,
         "JORNADA": "Diurna",
         "MODALIDAD": "Presencial",
         "NIVEL GLOBAL": "Pregrado",
         "NOMBRE CARRERA": "PSICOLOGIA",
         "NOMBRE INSTITUCIÓN": "UNIVERSIDAD GABRIELA MISTRAL",
         "NOMBRE SEDE": "CASA CENTRAL",
         "PROMEDIO EDAD HOMBRE ": "29,33333333",
         "PROMEDIO EDAD MUJER ": "28,9",
         "PROMEDIO EDAD NB ": "nan",
         "PROMEDIO EDAD PROGRAMA ": "29",
         "PROVINCIA": "SANTIAGO",
         "RANGO DE EDAD 15 A 19 AÑOS": "nan",
         "RANGO DE EDAD 20 A 24 AÑOS": 1,
         "RANGO DE EDAD 25 A 29 AÑOS": 7,
         "RANGO DE EDAD 30 A 34 AÑOS": 3,
         "RANGO DE EDAD 35 A 39 AÑOS": 2,
         "RANGO DE EDAD 40 Y MÁS AÑOS": "nan",
         "RANGO DE EDAD SIN INFORMACIÓN": "nan",
         "REGIÓN": "Metropolitana",
         "TIPO DE PLAN DE LA CARRERA": "Plan Regular",
         "TITULACIONES HOMBRES POR PROGRAMA": 3,
         "TITULACIONES MUJERES POR PROGRAMA": 10,
         "TITULACIONES NB E INDEFINIDO POR PROGRAMA": "nan",
         "TOTAL RANGO EDAD": 13,
         "TOTAL TITULACIONES": 13,
         "_deepnote_index_column": 1,
         "ÁREA CARRERA GENÉRICA": "Psicología",
         "ÁREA DEL CONOCIMIENTO": "Ciencias Sociales"
        },
        {
         "AÑO": "TIT_2024",
         "CARRERA CLASIFICACIÓN NIVEL 1": "Profesional Con Licenciatura",
         "CARRERA CLASIFICACIÓN NIVEL 2": "Carreras Profesionales",
         "CINE-F_13 SUBAREA": "Ciencias Sociales y del Comportamiento",
         "CINE-F_13 ÁREA": "Ciencias Sociales, Periodismo e Información",
         "CINE-F_97 SUBAREA": "Ciencias Sociales y del Comportamiento",
         "CINE-F_97 ÁREA": "Ciencias Sociales, Enseñanza Comercial y Derecho",
         "CLASIFICACIÓN INSTITUCIÓN NIVEL 1": "Universidades",
         "CLASIFICACIÓN INSTITUCIÓN NIVEL 2": "Universidades Privadas",
         "CLASIFICACIÓN INSTITUCIÓN NIVEL 3": "Universidades Privadas",
         "COMUNA": "PROVIDENCIA",
         "CÓDIGO INSTITUCIÓN": 1,
         "CÓDIGO PROGRAMA": "I1S1C12J2V4",
         "DURACIÓN ESTUDIO CARRERA": 8,
         "DURACIÓN TOTAL DE LA CARRERA": 8,
         "JORNADA": "Vespertina",
         "MODALIDAD": "Presencial",
         "NIVEL GLOBAL": "Pregrado",
         "NOMBRE CARRERA": "PSICOLOGIA",
         "NOMBRE INSTITUCIÓN": "UNIVERSIDAD GABRIELA MISTRAL",
         "NOMBRE SEDE": "CASA CENTRAL",
         "PROMEDIO EDAD HOMBRE ": "42",
         "PROMEDIO EDAD MUJER ": "45,69230769",
         "PROMEDIO EDAD NB ": "nan",
         "PROMEDIO EDAD PROGRAMA ": "45,2",
         "PROVINCIA": "SANTIAGO",
         "RANGO DE EDAD 15 A 19 AÑOS": "nan",
         "RANGO DE EDAD 20 A 24 AÑOS": "nan",
         "RANGO DE EDAD 25 A 29 AÑOS": "nan",
         "RANGO DE EDAD 30 A 34 AÑOS": 2,
         "RANGO DE EDAD 35 A 39 AÑOS": 1,
         "RANGO DE EDAD 40 Y MÁS AÑOS": 12,
         "RANGO DE EDAD SIN INFORMACIÓN": "nan",
         "REGIÓN": "Metropolitana",
         "TIPO DE PLAN DE LA CARRERA": "Plan Regular de Continuidad",
         "TITULACIONES HOMBRES POR PROGRAMA": 2,
         "TITULACIONES MUJERES POR PROGRAMA": 13,
         "TITULACIONES NB E INDEFINIDO POR PROGRAMA": "nan",
         "TOTAL RANGO EDAD": 15,
         "TOTAL TITULACIONES": 15,
         "_deepnote_index_column": 2,
         "ÁREA CARRERA GENÉRICA": "Psicología",
         "ÁREA DEL CONOCIMIENTO": "Ciencias Sociales"
        },
        {
         "AÑO": "TIT_2024",
         "CARRERA CLASIFICACIÓN NIVEL 1": "Profesional Con Licenciatura",
         "CARRERA CLASIFICACIÓN NIVEL 2": "Carreras Profesionales",
         "CINE-F_13 SUBAREA": "Salud",
         "CINE-F_13 ÁREA": "Salud y Bienestar",
         "CINE-F_97 SUBAREA": "Medicina",
         "CINE-F_97 ÁREA": "Salud y Servicios Sociales",
         "CLASIFICACIÓN INSTITUCIÓN NIVEL 1": "Universidades",
         "CLASIFICACIÓN INSTITUCIÓN NIVEL 2": "Universidades Privadas",
         "CLASIFICACIÓN INSTITUCIÓN NIVEL 3": "Universidades Privadas",
         "COMUNA": "PROVIDENCIA",
         "CÓDIGO INSTITUCIÓN": 1,
         "CÓDIGO PROGRAMA": "I1S1C172J1V1",
         "DURACIÓN ESTUDIO CARRERA": 10,
         "DURACIÓN TOTAL DE LA CARRERA": 10,
         "JORNADA": "Diurna",
         "MODALIDAD": "Presencial",
         "NIVEL GLOBAL": "Pregrado",
         "NOMBRE CARRERA": "ENFERMERIA",
         "NOMBRE INSTITUCIÓN": "UNIVERSIDAD GABRIELA MISTRAL",
         "NOMBRE SEDE": "CASA CENTRAL",
         "PROMEDIO EDAD HOMBRE ": "30,25",
         "PROMEDIO EDAD MUJER ": "30,13333333",
         "PROMEDIO EDAD NB ": "nan",
         "PROMEDIO EDAD PROGRAMA ": "30,15789474",
         "PROVINCIA": "SANTIAGO",
         "RANGO DE EDAD 15 A 19 AÑOS": "nan",
         "RANGO DE EDAD 20 A 24 AÑOS": 1,
         "RANGO DE EDAD 25 A 29 AÑOS": 9,
         "RANGO DE EDAD 30 A 34 AÑOS": 7,
         "RANGO DE EDAD 35 A 39 AÑOS": 1,
         "RANGO DE EDAD 40 Y MÁS AÑOS": 1,
         "RANGO DE EDAD SIN INFORMACIÓN": "nan",
         "REGIÓN": "Metropolitana",
         "TIPO DE PLAN DE LA CARRERA": "Plan Regular",
         "TITULACIONES HOMBRES POR PROGRAMA": 4,
         "TITULACIONES MUJERES POR PROGRAMA": 15,
         "TITULACIONES NB E INDEFINIDO POR PROGRAMA": "nan",
         "TOTAL RANGO EDAD": 19,
         "TOTAL TITULACIONES": 19,
         "_deepnote_index_column": 3,
         "ÁREA CARRERA GENÉRICA": "Enfermería",
         "ÁREA DEL CONOCIMIENTO": "Salud"
        },
        {
         "AÑO": "TIT_2024",
         "CARRERA CLASIFICACIÓN NIVEL 1": "Profesional Con Licenciatura",
         "CARRERA CLASIFICACIÓN NIVEL 2": "Carreras Profesionales",
         "CINE-F_13 SUBAREA": "Artes",
         "CINE-F_13 ÁREA": "Artes y Humanidades",
         "CINE-F_97 SUBAREA": "Artes",
         "CINE-F_97 ÁREA": "Humanidades y Artes",
         "CLASIFICACIÓN INSTITUCIÓN NIVEL 1": "Universidades",
         "CLASIFICACIÓN INSTITUCIÓN NIVEL 2": "Universidades Privadas",
         "CLASIFICACIÓN INSTITUCIÓN NIVEL 3": "Universidades Privadas",
         "COMUNA": "PROVIDENCIA",
         "CÓDIGO INSTITUCIÓN": 1,
         "CÓDIGO PROGRAMA": "I1S1C194J1V1",
         "DURACIÓN ESTUDIO CARRERA": 9,
         "DURACIÓN TOTAL DE LA CARRERA": 9,
         "JORNADA": "Diurna",
         "MODALIDAD": "Presencial",
         "NIVEL GLOBAL": "Pregrado",
         "NOMBRE CARRERA": "ANIMACION Y DISEÑO DIGITAL",
         "NOMBRE INSTITUCIÓN": "UNIVERSIDAD GABRIELA MISTRAL",
         "NOMBRE SEDE": "CASA CENTRAL",
         "PROMEDIO EDAD HOMBRE ": "24",
         "PROMEDIO EDAD MUJER ": "23,2",
         "PROMEDIO EDAD NB ": "nan",
         "PROMEDIO EDAD PROGRAMA ": "23,55555556",
         "PROVINCIA": "SANTIAGO",
         "RANGO DE EDAD 15 A 19 AÑOS": "nan",
         "RANGO DE EDAD 20 A 24 AÑOS": 7,
         "RANGO DE EDAD 25 A 29 AÑOS": 2,
         "RANGO DE EDAD 30 A 34 AÑOS": "nan",
         "RANGO DE EDAD 35 A 39 AÑOS": "nan",
         "RANGO DE EDAD 40 Y MÁS AÑOS": "nan",
         "RANGO DE EDAD SIN INFORMACIÓN": "nan",
         "REGIÓN": "Metropolitana",
         "TIPO DE PLAN DE LA CARRERA": "Plan Regular",
         "TITULACIONES HOMBRES POR PROGRAMA": 4,
         "TITULACIONES MUJERES POR PROGRAMA": 5,
         "TITULACIONES NB E INDEFINIDO POR PROGRAMA": "nan",
         "TOTAL RANGO EDAD": 9,
         "TOTAL TITULACIONES": 9,
         "_deepnote_index_column": 4,
         "ÁREA CARRERA GENÉRICA": "Animación Digital",
         "ÁREA DEL CONOCIMIENTO": "Arte y Arquitectura"
        }
       ],
       "type": "dataframe"
      },
      "text/html": [
       "<div>\n",
       "<style scoped>\n",
       "    .dataframe tbody tr th:only-of-type {\n",
       "        vertical-align: middle;\n",
       "    }\n",
       "\n",
       "    .dataframe tbody tr th {\n",
       "        vertical-align: top;\n",
       "    }\n",
       "\n",
       "    .dataframe thead th {\n",
       "        text-align: right;\n",
       "    }\n",
       "</style>\n",
       "<table border=\"1\" class=\"dataframe\">\n",
       "  <thead>\n",
       "    <tr style=\"text-align: right;\">\n",
       "      <th></th>\n",
       "      <th>AÑO</th>\n",
       "      <th>TOTAL TITULACIONES</th>\n",
       "      <th>TITULACIONES MUJERES POR PROGRAMA</th>\n",
       "      <th>TITULACIONES HOMBRES POR PROGRAMA</th>\n",
       "      <th>TITULACIONES NB E INDEFINIDO POR PROGRAMA</th>\n",
       "      <th>CLASIFICACIÓN INSTITUCIÓN NIVEL 1</th>\n",
       "      <th>CLASIFICACIÓN INSTITUCIÓN NIVEL 2</th>\n",
       "      <th>CLASIFICACIÓN INSTITUCIÓN NIVEL 3</th>\n",
       "      <th>CÓDIGO INSTITUCIÓN</th>\n",
       "      <th>NOMBRE INSTITUCIÓN</th>\n",
       "      <th>...</th>\n",
       "      <th>RANGO DE EDAD 20 A 24 AÑOS</th>\n",
       "      <th>RANGO DE EDAD 25 A 29 AÑOS</th>\n",
       "      <th>RANGO DE EDAD 30 A 34 AÑOS</th>\n",
       "      <th>RANGO DE EDAD 35 A 39 AÑOS</th>\n",
       "      <th>RANGO DE EDAD 40 Y MÁS AÑOS</th>\n",
       "      <th>RANGO DE EDAD SIN INFORMACIÓN</th>\n",
       "      <th>PROMEDIO EDAD PROGRAMA</th>\n",
       "      <th>PROMEDIO EDAD MUJER</th>\n",
       "      <th>PROMEDIO EDAD HOMBRE</th>\n",
       "      <th>PROMEDIO EDAD NB</th>\n",
       "    </tr>\n",
       "  </thead>\n",
       "  <tbody>\n",
       "    <tr>\n",
       "      <th>0</th>\n",
       "      <td>TIT_2024</td>\n",
       "      <td>10</td>\n",
       "      <td>4.0</td>\n",
       "      <td>6.0</td>\n",
       "      <td>NaN</td>\n",
       "      <td>Universidades</td>\n",
       "      <td>Universidades Privadas</td>\n",
       "      <td>Universidades Privadas</td>\n",
       "      <td>1</td>\n",
       "      <td>UNIVERSIDAD GABRIELA MISTRAL</td>\n",
       "      <td>...</td>\n",
       "      <td>1.0</td>\n",
       "      <td>NaN</td>\n",
       "      <td>1.0</td>\n",
       "      <td>4.0</td>\n",
       "      <td>4.0</td>\n",
       "      <td>NaN</td>\n",
       "      <td>38,7</td>\n",
       "      <td>38,5</td>\n",
       "      <td>38,83333333</td>\n",
       "      <td>NaN</td>\n",
       "    </tr>\n",
       "    <tr>\n",
       "      <th>1</th>\n",
       "      <td>TIT_2024</td>\n",
       "      <td>13</td>\n",
       "      <td>10.0</td>\n",
       "      <td>3.0</td>\n",
       "      <td>NaN</td>\n",
       "      <td>Universidades</td>\n",
       "      <td>Universidades Privadas</td>\n",
       "      <td>Universidades Privadas</td>\n",
       "      <td>1</td>\n",
       "      <td>UNIVERSIDAD GABRIELA MISTRAL</td>\n",
       "      <td>...</td>\n",
       "      <td>1.0</td>\n",
       "      <td>7.0</td>\n",
       "      <td>3.0</td>\n",
       "      <td>2.0</td>\n",
       "      <td>NaN</td>\n",
       "      <td>NaN</td>\n",
       "      <td>29</td>\n",
       "      <td>28,9</td>\n",
       "      <td>29,33333333</td>\n",
       "      <td>NaN</td>\n",
       "    </tr>\n",
       "    <tr>\n",
       "      <th>2</th>\n",
       "      <td>TIT_2024</td>\n",
       "      <td>15</td>\n",
       "      <td>13.0</td>\n",
       "      <td>2.0</td>\n",
       "      <td>NaN</td>\n",
       "      <td>Universidades</td>\n",
       "      <td>Universidades Privadas</td>\n",
       "      <td>Universidades Privadas</td>\n",
       "      <td>1</td>\n",
       "      <td>UNIVERSIDAD GABRIELA MISTRAL</td>\n",
       "      <td>...</td>\n",
       "      <td>NaN</td>\n",
       "      <td>NaN</td>\n",
       "      <td>2.0</td>\n",
       "      <td>1.0</td>\n",
       "      <td>12.0</td>\n",
       "      <td>NaN</td>\n",
       "      <td>45,2</td>\n",
       "      <td>45,69230769</td>\n",
       "      <td>42</td>\n",
       "      <td>NaN</td>\n",
       "    </tr>\n",
       "    <tr>\n",
       "      <th>3</th>\n",
       "      <td>TIT_2024</td>\n",
       "      <td>19</td>\n",
       "      <td>15.0</td>\n",
       "      <td>4.0</td>\n",
       "      <td>NaN</td>\n",
       "      <td>Universidades</td>\n",
       "      <td>Universidades Privadas</td>\n",
       "      <td>Universidades Privadas</td>\n",
       "      <td>1</td>\n",
       "      <td>UNIVERSIDAD GABRIELA MISTRAL</td>\n",
       "      <td>...</td>\n",
       "      <td>1.0</td>\n",
       "      <td>9.0</td>\n",
       "      <td>7.0</td>\n",
       "      <td>1.0</td>\n",
       "      <td>1.0</td>\n",
       "      <td>NaN</td>\n",
       "      <td>30,15789474</td>\n",
       "      <td>30,13333333</td>\n",
       "      <td>30,25</td>\n",
       "      <td>NaN</td>\n",
       "    </tr>\n",
       "    <tr>\n",
       "      <th>4</th>\n",
       "      <td>TIT_2024</td>\n",
       "      <td>9</td>\n",
       "      <td>5.0</td>\n",
       "      <td>4.0</td>\n",
       "      <td>NaN</td>\n",
       "      <td>Universidades</td>\n",
       "      <td>Universidades Privadas</td>\n",
       "      <td>Universidades Privadas</td>\n",
       "      <td>1</td>\n",
       "      <td>UNIVERSIDAD GABRIELA MISTRAL</td>\n",
       "      <td>...</td>\n",
       "      <td>7.0</td>\n",
       "      <td>2.0</td>\n",
       "      <td>NaN</td>\n",
       "      <td>NaN</td>\n",
       "      <td>NaN</td>\n",
       "      <td>NaN</td>\n",
       "      <td>23,55555556</td>\n",
       "      <td>23,2</td>\n",
       "      <td>24</td>\n",
       "      <td>NaN</td>\n",
       "    </tr>\n",
       "  </tbody>\n",
       "</table>\n",
       "<p>5 rows × 42 columns</p>\n",
       "</div>"
      ],
      "text/plain": [
       "        AÑO  TOTAL TITULACIONES  TITULACIONES MUJERES POR PROGRAMA  \\\n",
       "0  TIT_2024                  10                                4.0   \n",
       "1  TIT_2024                  13                               10.0   \n",
       "2  TIT_2024                  15                               13.0   \n",
       "3  TIT_2024                  19                               15.0   \n",
       "4  TIT_2024                   9                                5.0   \n",
       "\n",
       "   TITULACIONES HOMBRES POR PROGRAMA  \\\n",
       "0                                6.0   \n",
       "1                                3.0   \n",
       "2                                2.0   \n",
       "3                                4.0   \n",
       "4                                4.0   \n",
       "\n",
       "   TITULACIONES NB E INDEFINIDO POR PROGRAMA  \\\n",
       "0                                        NaN   \n",
       "1                                        NaN   \n",
       "2                                        NaN   \n",
       "3                                        NaN   \n",
       "4                                        NaN   \n",
       "\n",
       "  CLASIFICACIÓN INSTITUCIÓN NIVEL 1 CLASIFICACIÓN INSTITUCIÓN NIVEL 2  \\\n",
       "0                     Universidades            Universidades Privadas   \n",
       "1                     Universidades            Universidades Privadas   \n",
       "2                     Universidades            Universidades Privadas   \n",
       "3                     Universidades            Universidades Privadas   \n",
       "4                     Universidades            Universidades Privadas   \n",
       "\n",
       "  CLASIFICACIÓN INSTITUCIÓN NIVEL 3  CÓDIGO INSTITUCIÓN  \\\n",
       "0            Universidades Privadas                   1   \n",
       "1            Universidades Privadas                   1   \n",
       "2            Universidades Privadas                   1   \n",
       "3            Universidades Privadas                   1   \n",
       "4            Universidades Privadas                   1   \n",
       "\n",
       "             NOMBRE INSTITUCIÓN  ... RANGO DE EDAD 20 A 24 AÑOS  \\\n",
       "0  UNIVERSIDAD GABRIELA MISTRAL  ...                        1.0   \n",
       "1  UNIVERSIDAD GABRIELA MISTRAL  ...                        1.0   \n",
       "2  UNIVERSIDAD GABRIELA MISTRAL  ...                        NaN   \n",
       "3  UNIVERSIDAD GABRIELA MISTRAL  ...                        1.0   \n",
       "4  UNIVERSIDAD GABRIELA MISTRAL  ...                        7.0   \n",
       "\n",
       "  RANGO DE EDAD 25 A 29 AÑOS RANGO DE EDAD 30 A 34 AÑOS  \\\n",
       "0                        NaN                        1.0   \n",
       "1                        7.0                        3.0   \n",
       "2                        NaN                        2.0   \n",
       "3                        9.0                        7.0   \n",
       "4                        2.0                        NaN   \n",
       "\n",
       "  RANGO DE EDAD 35 A 39 AÑOS RANGO DE EDAD 40 Y MÁS AÑOS  \\\n",
       "0                        4.0                         4.0   \n",
       "1                        2.0                         NaN   \n",
       "2                        1.0                        12.0   \n",
       "3                        1.0                         1.0   \n",
       "4                        NaN                         NaN   \n",
       "\n",
       "  RANGO DE EDAD SIN INFORMACIÓN PROMEDIO EDAD PROGRAMA  PROMEDIO EDAD MUJER   \\\n",
       "0                           NaN                    38,7                 38,5   \n",
       "1                           NaN                      29                 28,9   \n",
       "2                           NaN                    45,2          45,69230769   \n",
       "3                           NaN             30,15789474          30,13333333   \n",
       "4                           NaN             23,55555556                 23,2   \n",
       "\n",
       "  PROMEDIO EDAD HOMBRE  PROMEDIO EDAD NB   \n",
       "0           38,83333333               NaN  \n",
       "1           29,33333333               NaN  \n",
       "2                    42               NaN  \n",
       "3                 30,25               NaN  \n",
       "4                    24               NaN  \n",
       "\n",
       "[5 rows x 42 columns]"
      ]
     },
     "execution_count": 16,
     "metadata": {},
     "output_type": "execute_result"
    }
   ],
   "source": [
    "import pandas as pd\n",
    "df = pd.read_csv('TITULADO_2007-2024_web_19_05_2025_E.csv', encoding='latin1', delimiter=';', on_bad_lines='warn')\n",
    "df.head()"
   ]
  }
 ],
 "metadata": {
  "deepnote_notebook_id": "98b4e54d85ea41459b11282ba224380b",
  "language_info": {
   "name": "python"
  }
 },
 "nbformat": 4,
 "nbformat_minor": 0
}
